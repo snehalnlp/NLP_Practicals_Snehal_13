{
  "nbformat": 4,
  "nbformat_minor": 0,
  "metadata": {
    "colab": {
      "name": "Practical 11(WSD).ipynbPrac11_Word_sense_disambiguation_Snehal_13",
      "provenance": [],
      "collapsed_sections": [],
      "include_colab_link": true
    },
    "kernelspec": {
      "name": "python3",
      "display_name": "Python 3"
    },
    "language_info": {
      "name": "python"
    }
  },
  "cells": [
    {
      "cell_type": "markdown",
      "metadata": {
        "id": "view-in-github",
        "colab_type": "text"
      },
      "source": [
        "<a href=\"https://colab.research.google.com/github/snehalnlp/NLP_Practicals_Snehal_13/blob/main/Practical_11(WSD)_ipynbPrac11_Word_sense_disambiguation_Snehal_13.ipynb\" target=\"_parent\"><img src=\"https://colab.research.google.com/assets/colab-badge.svg\" alt=\"Open In Colab\"/></a>"
      ]
    },
    {
      "cell_type": "markdown",
      "metadata": {
        "id": "XhgQod3CKdc4"
      },
      "source": [
        "#**11 - Word Sense Disambiguation**"
      ]
    },
    {
      "cell_type": "code",
      "metadata": {
        "colab": {
          "base_uri": "https://localhost:8080/"
        },
        "id": "xgKJhjra5Wlt",
        "outputId": "34e1b393-f424-4eb9-eb2c-07af20328096"
      },
      "source": [
        "pip install pywsd"
      ],
      "execution_count": 1,
      "outputs": [
        {
          "output_type": "stream",
          "text": [
            "Collecting pywsd\n",
            "\u001b[?25l  Downloading https://files.pythonhosted.org/packages/9d/bb/427a49c461b0970c124509f77d2cd75bdca0daa746155c45d065f0af93e3/pywsd-1.2.4.tar.gz (26.8MB)\n",
            "\u001b[K     |████████████████████████████████| 26.8MB 149kB/s \n",
            "\u001b[?25hRequirement already satisfied: nltk in /usr/local/lib/python3.7/dist-packages (from pywsd) (3.2.5)\n",
            "Requirement already satisfied: numpy in /usr/local/lib/python3.7/dist-packages (from pywsd) (1.19.5)\n",
            "Requirement already satisfied: pandas in /usr/local/lib/python3.7/dist-packages (from pywsd) (1.1.5)\n",
            "Collecting wn\n",
            "\u001b[?25l  Downloading https://files.pythonhosted.org/packages/87/59/021de184765db103f2de9173331f944f007546b4d7563e9f40680887c5e6/wn-0.6.2-py3-none-any.whl (54kB)\n",
            "\u001b[K     |████████████████████████████████| 61kB 6.7MB/s \n",
            "\u001b[?25hRequirement already satisfied: six in /usr/local/lib/python3.7/dist-packages (from pywsd) (1.15.0)\n",
            "Requirement already satisfied: pytz>=2017.2 in /usr/local/lib/python3.7/dist-packages (from pandas->pywsd) (2018.9)\n",
            "Requirement already satisfied: python-dateutil>=2.7.3 in /usr/local/lib/python3.7/dist-packages (from pandas->pywsd) (2.8.1)\n",
            "Collecting requests~=2.25\n",
            "\u001b[?25l  Downloading https://files.pythonhosted.org/packages/29/c1/24814557f1d22c56d50280771a17307e6bf87b70727d975fd6b2ce6b014a/requests-2.25.1-py2.py3-none-any.whl (61kB)\n",
            "\u001b[K     |████████████████████████████████| 61kB 8.0MB/s \n",
            "\u001b[?25hRequirement already satisfied: toml~=0.10 in /usr/local/lib/python3.7/dist-packages (from wn->pywsd) (0.10.2)\n",
            "Requirement already satisfied: idna<3,>=2.5 in /usr/local/lib/python3.7/dist-packages (from requests~=2.25->wn->pywsd) (2.10)\n",
            "Requirement already satisfied: urllib3<1.27,>=1.21.1 in /usr/local/lib/python3.7/dist-packages (from requests~=2.25->wn->pywsd) (1.24.3)\n",
            "Requirement already satisfied: chardet<5,>=3.0.2 in /usr/local/lib/python3.7/dist-packages (from requests~=2.25->wn->pywsd) (3.0.4)\n",
            "Requirement already satisfied: certifi>=2017.4.17 in /usr/local/lib/python3.7/dist-packages (from requests~=2.25->wn->pywsd) (2020.12.5)\n",
            "Building wheels for collected packages: pywsd\n",
            "  Building wheel for pywsd (setup.py) ... \u001b[?25l\u001b[?25hdone\n",
            "  Created wheel for pywsd: filename=pywsd-1.2.4-cp37-none-any.whl size=26940454 sha256=94c0806ce65463af7f1557c0c37d54a8cb9b0ab09522c92f502d7b2955a7a7f0\n",
            "  Stored in directory: /root/.cache/pip/wheels/71/4d/d2/405b948047f7f3851f16ab9d893ce7c1a3010182900884536b\n",
            "Successfully built pywsd\n",
            "\u001b[31mERROR: google-colab 1.0.0 has requirement requests~=2.23.0, but you'll have requests 2.25.1 which is incompatible.\u001b[0m\n",
            "\u001b[31mERROR: datascience 0.10.6 has requirement folium==0.2.1, but you'll have folium 0.8.3 which is incompatible.\u001b[0m\n",
            "Installing collected packages: requests, wn, pywsd\n",
            "  Found existing installation: requests 2.23.0\n",
            "    Uninstalling requests-2.23.0:\n",
            "      Successfully uninstalled requests-2.23.0\n",
            "Successfully installed pywsd-1.2.4 requests-2.25.1 wn-0.6.2\n"
          ],
          "name": "stdout"
        }
      ]
    },
    {
      "cell_type": "code",
      "metadata": {
        "id": "WYaLy_Jk8PH6"
      },
      "source": [
        "from nltk.wsd import lesk"
      ],
      "execution_count": 2,
      "outputs": []
    },
    {
      "cell_type": "code",
      "metadata": {
        "id": "J2qpc4Ki_NzS",
        "colab": {
          "base_uri": "https://localhost:8080/"
        },
        "outputId": "f1ad9bdd-06a8-45a4-896f-36b9fb0655c3"
      },
      "source": [
        "import nltk\n",
        "nltk.download('wordnet')"
      ],
      "execution_count": 3,
      "outputs": [
        {
          "output_type": "stream",
          "text": [
            "[nltk_data] Downloading package wordnet to /root/nltk_data...\n",
            "[nltk_data]   Unzipping corpora/wordnet.zip.\n"
          ],
          "name": "stdout"
        },
        {
          "output_type": "execute_result",
          "data": {
            "text/plain": [
              "True"
            ]
          },
          "metadata": {
            "tags": []
          },
          "execution_count": 3
        }
      ]
    },
    {
      "cell_type": "code",
      "metadata": {
        "colab": {
          "base_uri": "https://localhost:8080/"
        },
        "id": "xcAhL6Qm7j2P",
        "outputId": "86d8486e-ff6b-408b-fc97-5a33f8e4d8c7"
      },
      "source": [
        "sentences = ['I went to the bank to deposit my money', 'The river bank was full of dead fishes']\n",
        "# calling the lesk function and printing results for both the sentences  \n",
        "print (\"Context-1:\", sentences[0])  \n",
        "answer = lesk(sentences[0],'bank')  \n",
        "print (\"Sense:\", answer)  \n",
        "print (\"Definition : \", answer.definition())  "
      ],
      "execution_count": 4,
      "outputs": [
        {
          "output_type": "stream",
          "text": [
            "Context-1: I went to the bank to deposit my money\n",
            "Sense: Synset('savings_bank.n.02')\n",
            "Definition :  a container (usually with a slot in the top) for keeping money at home\n"
          ],
          "name": "stdout"
        }
      ]
    },
    {
      "cell_type": "code",
      "metadata": {
        "colab": {
          "base_uri": "https://localhost:8080/"
        },
        "id": "kixHTH_nIdXQ",
        "outputId": "d26bfc6f-3b81-411f-cdd2-2bba6403ce90"
      },
      "source": [
        "print (\"Context-2:\", sentences[1])  \n",
        "answer = lesk(sentences[1],'bank')  \n",
        "print (\"Sense:\", answer)  \n",
        "print (\"Definition : \", answer.definition())  "
      ],
      "execution_count": 5,
      "outputs": [
        {
          "output_type": "stream",
          "text": [
            "Context-2: The river bank was full of dead fishes\n",
            "Sense: Synset('savings_bank.n.02')\n",
            "Definition :  a container (usually with a slot in the top) for keeping money at home\n"
          ],
          "name": "stdout"
        }
      ]
    },
    {
      "cell_type": "code",
      "metadata": {
        "id": "IjlE8Qv_JhIX"
      },
      "source": [
        "new_sentences = ['The workers at the plant were overworked',\n",
        " \n",
        "'The plant was no longer bearing flowers',\n",
        " \n",
        "'The workers at the industrial plant were overworked']"
      ],
      "execution_count": 6,
      "outputs": []
    },
    {
      "cell_type": "code",
      "metadata": {
        "colab": {
          "base_uri": "https://localhost:8080/"
        },
        "id": "cHwJMFmeIz8e",
        "outputId": "e9fb1c88-84ef-4b37-97ec-7f80c8579a10"
      },
      "source": [
        "# calling the lesk function and printing results  \n",
        "print (\"Context-1:\", new_sentences[0])  \n",
        "answer = lesk(new_sentences[0],'plant')  \n",
        "print (\"Sense:\", answer)  \n",
        "print (\"Definition : \", answer.definition())"
      ],
      "execution_count": 7,
      "outputs": [
        {
          "output_type": "stream",
          "text": [
            "Context-1: The workers at the plant were overworked\n",
            "Sense: Synset('plant.v.05')\n",
            "Definition :  place something or someone in a certain position in order to secretly observe or deceive\n"
          ],
          "name": "stdout"
        }
      ]
    },
    {
      "cell_type": "code",
      "metadata": {
        "colab": {
          "base_uri": "https://localhost:8080/"
        },
        "id": "iCvnaPrfJkLw",
        "outputId": "c3197fa9-78c0-409b-e72e-811fc7a0f4a9"
      },
      "source": [
        "print (\"Context-2:\", new_sentences[1])  \n",
        "answer = lesk(new_sentences[1],'plant')  \n",
        "print (\"Sense:\", answer)  \n",
        "print (\"Definition : \", answer.definition())"
      ],
      "execution_count": 8,
      "outputs": [
        {
          "output_type": "stream",
          "text": [
            "Context-2: The plant was no longer bearing flowers\n",
            "Sense: Synset('plant.v.05')\n",
            "Definition :  place something or someone in a certain position in order to secretly observe or deceive\n"
          ],
          "name": "stdout"
        }
      ]
    },
    {
      "cell_type": "code",
      "metadata": {
        "colab": {
          "base_uri": "https://localhost:8080/"
        },
        "id": "Xblx8v25JvCn",
        "outputId": "8b7ef904-d888-4204-f46d-61c13c8345e0"
      },
      "source": [
        "print (\"Context-3:\", new_sentences[2])  \n",
        "answer = lesk(new_sentences[2],'plant')  \n",
        "print (\"Sense:\", answer)  \n",
        "print (\"Definition : \", answer.definition())"
      ],
      "execution_count": 9,
      "outputs": [
        {
          "output_type": "stream",
          "text": [
            "Context-3: The workers at the industrial plant were overworked\n",
            "Sense: Synset('plant.v.05')\n",
            "Definition :  place something or someone in a certain position in order to secretly observe or deceive\n"
          ],
          "name": "stdout"
        }
      ]
    }
  ]
}