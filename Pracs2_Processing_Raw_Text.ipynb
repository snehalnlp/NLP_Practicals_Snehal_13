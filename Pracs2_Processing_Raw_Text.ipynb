{
  "nbformat": 4,
  "nbformat_minor": 0,
  "metadata": {
    "colab": {
      "name": "Pracs2_Processing_Raw_Text.ipynb",
      "provenance": [],
      "collapsed_sections": [],
      "include_colab_link": true
    },
    "kernelspec": {
      "name": "python3",
      "display_name": "Python 3"
    },
    "language_info": {
      "name": "python"
    }
  },
  "cells": [
    {
      "cell_type": "markdown",
      "metadata": {
        "id": "view-in-github",
        "colab_type": "text"
      },
      "source": [
        "<a href=\"https://colab.research.google.com/github/snehalnlp/NLP_Practicals_Snehal_13/blob/main/Pracs2_Processing_Raw_Text.ipynb\" target=\"_parent\"><img src=\"https://colab.research.google.com/assets/colab-badge.svg\" alt=\"Open In Colab\"/></a>"
      ]
    },
    {
      "cell_type": "markdown",
      "metadata": {
        "id": "Gsrmzv0jRJVc"
      },
      "source": [
        "#**2 - Processing Raw Text**\n",
        "1. Accessing text from Web\n",
        "2. Accessing local text file\n",
        "3. Accessing text from PDF, Word and other Binary Format\n",
        "4. The NLP pipeline"
      ]
    },
    {
      "cell_type": "code",
      "metadata": {
        "id": "s8ywHF-m5YdJ"
      },
      "source": [
        "from urllib import request"
      ],
      "execution_count": 30,
      "outputs": []
    },
    {
      "cell_type": "code",
      "metadata": {
        "id": "8CBdIYLo5oII"
      },
      "source": [
        "url = \"http://www.gutenberg.org/files/2554/2554-0.txt\""
      ],
      "execution_count": 31,
      "outputs": []
    },
    {
      "cell_type": "code",
      "metadata": {
        "id": "Pmdf6V9M52mw"
      },
      "source": [
        " from __future__ import division\n"
      ],
      "execution_count": 32,
      "outputs": []
    },
    {
      "cell_type": "code",
      "metadata": {
        "id": "2-pZ6rZy52v9"
      },
      "source": [
        "import nltk, re, pprint"
      ],
      "execution_count": 33,
      "outputs": []
    },
    {
      "cell_type": "code",
      "metadata": {
        "id": "RITto_2a523-"
      },
      "source": [
        "from nltk import word_tokenize"
      ],
      "execution_count": 34,
      "outputs": []
    },
    {
      "cell_type": "code",
      "metadata": {
        "id": "isJY_hz659a4"
      },
      "source": [
        "response = request.urlopen(url)"
      ],
      "execution_count": 35,
      "outputs": []
    },
    {
      "cell_type": "code",
      "metadata": {
        "id": "kATFUDe56BUh"
      },
      "source": [
        "raw = response.read().decode('utf8')"
      ],
      "execution_count": 36,
      "outputs": []
    },
    {
      "cell_type": "code",
      "metadata": {
        "colab": {
          "base_uri": "https://localhost:8080/"
        },
        "id": "8NthACpl6IbJ",
        "outputId": "ae810fbb-afb4-447c-8e56-4c07dda39986"
      },
      "source": [
        "type(raw)"
      ],
      "execution_count": 37,
      "outputs": [
        {
          "output_type": "execute_result",
          "data": {
            "text/plain": [
              "str"
            ]
          },
          "metadata": {
            "tags": []
          },
          "execution_count": 37
        }
      ]
    },
    {
      "cell_type": "code",
      "metadata": {
        "colab": {
          "base_uri": "https://localhost:8080/"
        },
        "id": "pHeOsoho6LTZ",
        "outputId": "875963d0-c2d6-4e47-b674-a4e8180be636"
      },
      "source": [
        "len(raw)"
      ],
      "execution_count": 38,
      "outputs": [
        {
          "output_type": "execute_result",
          "data": {
            "text/plain": [
              "1176967"
            ]
          },
          "metadata": {
            "tags": []
          },
          "execution_count": 38
        }
      ]
    },
    {
      "cell_type": "code",
      "metadata": {
        "colab": {
          "base_uri": "https://localhost:8080/",
          "height": 35
        },
        "id": "HfDxU_qN6Tvr",
        "outputId": "20e7b25d-3a1f-4b7e-ea6c-24c2a9569ca1"
      },
      "source": [
        "raw[:75]"
      ],
      "execution_count": 39,
      "outputs": [
        {
          "output_type": "execute_result",
          "data": {
            "application/vnd.google.colaboratory.intrinsic+json": {
              "type": "string"
            },
            "text/plain": [
              "'\\ufeffThe Project Gutenberg EBook of Crime and Punishment, by Fyodor Dostoevsky\\r'"
            ]
          },
          "metadata": {
            "tags": []
          },
          "execution_count": 39
        }
      ]
    },
    {
      "cell_type": "code",
      "metadata": {
        "colab": {
          "base_uri": "https://localhost:8080/"
        },
        "id": "cKXyfk4ICpc1",
        "outputId": "1a78b75c-f14c-4124-e3d7-344c4b6026e6"
      },
      "source": [
        "import nltk\n",
        "nltk.download('punkt')\n",
        "from nltk import word_tokenize"
      ],
      "execution_count": 40,
      "outputs": [
        {
          "output_type": "stream",
          "text": [
            "[nltk_data] Downloading package punkt to /root/nltk_data...\n",
            "[nltk_data]   Package punkt is already up-to-date!\n"
          ],
          "name": "stdout"
        }
      ]
    },
    {
      "cell_type": "code",
      "metadata": {
        "colab": {
          "base_uri": "https://localhost:8080/"
        },
        "id": "8bAX7o0vCsWO",
        "outputId": "024a2c58-ec7a-4ee6-b532-93fe5b65640c"
      },
      "source": [
        "tokens = word_tokenize(raw)\n",
        "type(tokens)"
      ],
      "execution_count": 41,
      "outputs": [
        {
          "output_type": "execute_result",
          "data": {
            "text/plain": [
              "list"
            ]
          },
          "metadata": {
            "tags": []
          },
          "execution_count": 41
        }
      ]
    },
    {
      "cell_type": "code",
      "metadata": {
        "colab": {
          "base_uri": "https://localhost:8080/"
        },
        "id": "09dMUm1KCvGz",
        "outputId": "dbb8ed9b-aa30-4610-f4a1-552d93a0017e"
      },
      "source": [
        "len(tokens)"
      ],
      "execution_count": 42,
      "outputs": [
        {
          "output_type": "execute_result",
          "data": {
            "text/plain": [
              "257727"
            ]
          },
          "metadata": {
            "tags": []
          },
          "execution_count": 42
        }
      ]
    },
    {
      "cell_type": "code",
      "metadata": {
        "colab": {
          "base_uri": "https://localhost:8080/"
        },
        "id": "bXBxzI13C0vS",
        "outputId": "98731c7f-b437-4ebf-be2e-d80e0a98da0c"
      },
      "source": [
        "tokens[:10]"
      ],
      "execution_count": 43,
      "outputs": [
        {
          "output_type": "execute_result",
          "data": {
            "text/plain": [
              "['\\ufeffThe',\n",
              " 'Project',\n",
              " 'Gutenberg',\n",
              " 'EBook',\n",
              " 'of',\n",
              " 'Crime',\n",
              " 'and',\n",
              " 'Punishment',\n",
              " ',',\n",
              " 'by']"
            ]
          },
          "metadata": {
            "tags": []
          },
          "execution_count": 43
        }
      ]
    },
    {
      "cell_type": "code",
      "metadata": {
        "id": "yD6fFRFdC8rX"
      },
      "source": [
        "text = nltk.Text(tokens)"
      ],
      "execution_count": 44,
      "outputs": []
    },
    {
      "cell_type": "code",
      "metadata": {
        "colab": {
          "base_uri": "https://localhost:8080/"
        },
        "id": "oTC3VZyDC-xy",
        "outputId": "0b796201-1ee7-468f-a796-bf8bfdccfc71"
      },
      "source": [
        "type(text)"
      ],
      "execution_count": 45,
      "outputs": [
        {
          "output_type": "execute_result",
          "data": {
            "text/plain": [
              "nltk.text.Text"
            ]
          },
          "metadata": {
            "tags": []
          },
          "execution_count": 45
        }
      ]
    },
    {
      "cell_type": "code",
      "metadata": {
        "colab": {
          "base_uri": "https://localhost:8080/"
        },
        "id": "KRnh8MQ6DDCC",
        "outputId": "45fb3f69-d261-4a51-a693-d79ff50c814f"
      },
      "source": [
        "text = nltk.Text(tokens)\n",
        "text"
      ],
      "execution_count": 46,
      "outputs": [
        {
          "output_type": "execute_result",
          "data": {
            "text/plain": [
              "<Text: ﻿The Project Gutenberg EBook of Crime and Punishment...>"
            ]
          },
          "metadata": {
            "tags": []
          },
          "execution_count": 46
        }
      ]
    },
    {
      "cell_type": "code",
      "metadata": {
        "colab": {
          "base_uri": "https://localhost:8080/"
        },
        "id": "jMgBRUaQDHjT",
        "outputId": "a0aa6f6f-1a68-41a7-c0e7-d5db4758d13c"
      },
      "source": [
        "text[1024:1062]"
      ],
      "execution_count": 47,
      "outputs": [
        {
          "output_type": "execute_result",
          "data": {
            "text/plain": [
              "['an',\n",
              " 'exceptionally',\n",
              " 'hot',\n",
              " 'evening',\n",
              " 'early',\n",
              " 'in',\n",
              " 'July',\n",
              " 'a',\n",
              " 'young',\n",
              " 'man',\n",
              " 'came',\n",
              " 'out',\n",
              " 'of',\n",
              " 'the',\n",
              " 'garret',\n",
              " 'in',\n",
              " 'which',\n",
              " 'he',\n",
              " 'lodged',\n",
              " 'in',\n",
              " 'S.',\n",
              " 'Place',\n",
              " 'and',\n",
              " 'walked',\n",
              " 'slowly',\n",
              " ',',\n",
              " 'as',\n",
              " 'though',\n",
              " 'in',\n",
              " 'hesitation',\n",
              " ',',\n",
              " 'towards',\n",
              " 'K.',\n",
              " 'bridge',\n",
              " '.',\n",
              " 'He',\n",
              " 'had',\n",
              " 'successfully']"
            ]
          },
          "metadata": {
            "tags": []
          },
          "execution_count": 47
        }
      ]
    },
    {
      "cell_type": "code",
      "metadata": {
        "colab": {
          "base_uri": "https://localhost:8080/"
        },
        "id": "_JcSFwOiDM-V",
        "outputId": "6145359d-0366-4362-c9e0-b51ba366e0cb"
      },
      "source": [
        "nltk.download('stopwords')\n",
        "text.collocations()"
      ],
      "execution_count": 48,
      "outputs": [
        {
          "output_type": "stream",
          "text": [
            "[nltk_data] Downloading package stopwords to /root/nltk_data...\n",
            "[nltk_data]   Package stopwords is already up-to-date!\n",
            "Katerina Ivanovna; Pyotr Petrovitch; Pulcheria Alexandrovna; Avdotya\n",
            "Romanovna; Rodion Romanovitch; Marfa Petrovna; Sofya Semyonovna; old\n",
            "woman; Project Gutenberg-tm; Porfiry Petrovitch; Amalia Ivanovna;\n",
            "great deal; young man; Nikodim Fomitch; Ilya Petrovitch; Project\n",
            "Gutenberg; Andrey Semyonovitch; Hay Market; Dmitri Prokofitch; Good\n",
            "heavens\n"
          ],
          "name": "stdout"
        }
      ]
    },
    {
      "cell_type": "code",
      "metadata": {
        "colab": {
          "base_uri": "https://localhost:8080/"
        },
        "id": "MI_M_t7DDP1h",
        "outputId": "f4f69db4-90eb-49ec-c265-8bd270398d2d"
      },
      "source": [
        "raw.find(\"PART I\")"
      ],
      "execution_count": 49,
      "outputs": [
        {
          "output_type": "execute_result",
          "data": {
            "text/plain": [
              "5336"
            ]
          },
          "metadata": {
            "tags": []
          },
          "execution_count": 49
        }
      ]
    },
    {
      "cell_type": "code",
      "metadata": {
        "colab": {
          "base_uri": "https://localhost:8080/"
        },
        "id": "-ruxt78WDSmJ",
        "outputId": "664c2a82-0da0-464c-b64a-e6966832ad72"
      },
      "source": [
        "raw.rfind(\"End of Project Gutenberg's Crime\")"
      ],
      "execution_count": 50,
      "outputs": [
        {
          "output_type": "execute_result",
          "data": {
            "text/plain": [
              "-1"
            ]
          },
          "metadata": {
            "tags": []
          },
          "execution_count": 50
        }
      ]
    },
    {
      "cell_type": "code",
      "metadata": {
        "colab": {
          "base_uri": "https://localhost:8080/"
        },
        "id": "0ftup2agDU8N",
        "outputId": "df054c01-b4e4-451c-f0d6-551772135661"
      },
      "source": [
        "raw = raw[5338:1157743] [1]\n",
        "raw.find(\"PART I\")"
      ],
      "execution_count": 51,
      "outputs": [
        {
          "output_type": "execute_result",
          "data": {
            "text/plain": [
              "-1"
            ]
          },
          "metadata": {
            "tags": []
          },
          "execution_count": 51
        }
      ]
    },
    {
      "cell_type": "code",
      "metadata": {
        "colab": {
          "base_uri": "https://localhost:8080/"
        },
        "id": "HLZRKFBv_lfo",
        "outputId": "1cfc2a16-e9ed-4aab-b1aa-dd7271cb987f"
      },
      "source": [
        "\n",
        "import nltk\n",
        "nltk.download('punkt')\n",
        "from nltk import word_tokenize"
      ],
      "execution_count": 52,
      "outputs": [
        {
          "output_type": "stream",
          "text": [
            "[nltk_data] Downloading package punkt to /root/nltk_data...\n",
            "[nltk_data]   Package punkt is already up-to-date!\n"
          ],
          "name": "stdout"
        }
      ]
    },
    {
      "cell_type": "code",
      "metadata": {
        "id": "M8U5g237_3Lt"
      },
      "source": [
        "f = open('NLP.txt')"
      ],
      "execution_count": 55,
      "outputs": []
    },
    {
      "cell_type": "code",
      "metadata": {
        "id": "68Hg90ByBvjA"
      },
      "source": [
        "raw = f.read()"
      ],
      "execution_count": null,
      "outputs": []
    },
    {
      "cell_type": "code",
      "metadata": {
        "id": "TkXPUpVLBz8g"
      },
      "source": [
        "f = open('NLP.txt')"
      ],
      "execution_count": 57,
      "outputs": []
    },
    {
      "cell_type": "code",
      "metadata": {
        "id": "qfIaxj0jB7j_"
      },
      "source": [
        "import os"
      ],
      "execution_count": 59,
      "outputs": []
    },
    {
      "cell_type": "code",
      "metadata": {
        "colab": {
          "base_uri": "https://localhost:8080/"
        },
        "id": "Jpydyo3YB_XG",
        "outputId": "682ef5a8-3f12-4309-b1dd-f0b42b007741"
      },
      "source": [
        "os.listdir('.')"
      ],
      "execution_count": 60,
      "outputs": [
        {
          "output_type": "execute_result",
          "data": {
            "text/plain": [
              "['.config', 'NLP.txt', 'sample_data']"
            ]
          },
          "metadata": {
            "tags": []
          },
          "execution_count": 60
        }
      ]
    },
    {
      "cell_type": "code",
      "metadata": {
        "colab": {
          "base_uri": "https://localhost:8080/",
          "height": 52
        },
        "id": "REMvbI3TCDXi",
        "outputId": "7a474b53-4f7d-4577-99f9-6efe69d59de7"
      },
      "source": [
        "f.read()"
      ],
      "execution_count": 61,
      "outputs": [
        {
          "output_type": "execute_result",
          "data": {
            "application/vnd.google.colaboratory.intrinsic+json": {
              "type": "string"
            },
            "text/plain": [
              "'Natural Processing Lanuage\\nNatural Language Processing, or NLP for short, is broadly defined as the automatic manipulation of natural language, like speech and text, by software. The study of natural language processing has been around for more than 50 years and grew out of the field of linguistics with the rise of computers.'"
            ]
          },
          "metadata": {
            "tags": []
          },
          "execution_count": 61
        }
      ]
    },
    {
      "cell_type": "code",
      "metadata": {
        "colab": {
          "base_uri": "https://localhost:8080/"
        },
        "id": "UFekaT_cCG3H",
        "outputId": "224fed17-8bb1-4843-c4ce-9d4f7e61b247"
      },
      "source": [
        "f = open('NLP.txt', 'rU')\n",
        "for line in f:\n",
        "  print(line.strip())"
      ],
      "execution_count": 63,
      "outputs": [
        {
          "output_type": "stream",
          "text": [
            "Natural Processing Lanuage\n",
            "Natural Language Processing, or NLP for short, is broadly defined as the automatic manipulation of natural language, like speech and text, by software. The study of natural language processing has been around for more than 50 years and grew out of the field of linguistics with the rise of computers.\n"
          ],
          "name": "stdout"
        },
        {
          "output_type": "stream",
          "text": [
            "/usr/local/lib/python3.7/dist-packages/ipykernel_launcher.py:1: DeprecationWarning: 'U' mode is deprecated\n",
            "  \"\"\"Entry point for launching an IPython kernel.\n"
          ],
          "name": "stderr"
        }
      ]
    },
    {
      "cell_type": "code",
      "metadata": {
        "id": "hLSyWDrLEV8b"
      },
      "source": [
        "s = input(\"Enter some text: \")"
      ],
      "execution_count": null,
      "outputs": []
    },
    {
      "cell_type": "code",
      "metadata": {
        "id": "-l9KMRkIFcdP"
      },
      "source": [
        "print(\"You typed\", len(word_tokenize(s)), \"words.\")"
      ],
      "execution_count": null,
      "outputs": []
    },
    {
      "cell_type": "code",
      "metadata": {
        "id": "qIBFII3wFr-3"
      },
      "source": [
        "raw = open('/content/doc.TXT').read()"
      ],
      "execution_count": null,
      "outputs": []
    },
    {
      "cell_type": "code",
      "metadata": {
        "id": "9EncwB63GCuC"
      },
      "source": [
        "type(raw)"
      ],
      "execution_count": null,
      "outputs": []
    },
    {
      "cell_type": "code",
      "metadata": {
        "id": "CyHRyI23GGZl"
      },
      "source": [
        "tokens = word_tokenize(raw)\n",
        "type(tokens)"
      ],
      "execution_count": null,
      "outputs": []
    },
    {
      "cell_type": "code",
      "metadata": {
        "id": "TIIGTJ5KGKpg"
      },
      "source": [
        "words = [w.lower() for w in tokens]\n",
        "type(words)"
      ],
      "execution_count": null,
      "outputs": []
    },
    {
      "cell_type": "code",
      "metadata": {
        "id": "gWX67uKcGPcn"
      },
      "source": [
        "vocab = sorted(set(words))\n",
        "type(vocab)"
      ],
      "execution_count": null,
      "outputs": []
    }
  ]
}